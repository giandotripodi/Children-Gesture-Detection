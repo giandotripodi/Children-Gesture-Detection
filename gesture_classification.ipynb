{
 "cells": [
  {
   "cell_type": "code",
   "execution_count": 1,
   "metadata": {
    "id": "igMyGnjE9hEp"
   },
   "outputs": [],
   "source": [
    "import csv\n",
    "\n",
    "import numpy as np\n",
    "import tensorflow as tf\n",
    "from sklearn.model_selection import train_test_split\n",
    "import matplotlib.pyplot as plt"
   ]
  },
  {
   "cell_type": "code",
   "execution_count": 2,
   "metadata": {
    "id": "9NvZP2Zn9hEy"
   },
   "outputs": [],
   "source": [
    "dataset = 'model/dataset/dataset.csv'\n",
    "model_save_path = 'model/gesture_class/gesture_classifier.hdf5'\n",
    "tflite_save_path = 'model/gesture_class/gesture_classifier.tflite'"
   ]
  },
  {
   "cell_type": "markdown",
   "metadata": {
    "id": "XjnL0uso9hEz"
   },
   "source": [
    "# Dataset"
   ]
  },
  {
   "cell_type": "code",
   "execution_count": 3,
   "metadata": {
    "id": "QT5ZqtEz9hE0"
   },
   "outputs": [],
   "source": [
    "X_dataset = np.loadtxt(dataset, delimiter=',', dtype='float32', usecols=list(range(1, (21 * 2) + 1)))"
   ]
  },
  {
   "cell_type": "code",
   "execution_count": 4,
   "metadata": {
    "id": "QmoKFsp49hE0"
   },
   "outputs": [],
   "source": [
    "y_dataset = np.loadtxt(dataset, delimiter=',', dtype='int32', usecols=(0))"
   ]
  },
  {
   "cell_type": "code",
   "execution_count": 5,
   "metadata": {
    "id": "xQU7JTZ_9hE0"
   },
   "outputs": [],
   "source": [
    "X_train, X_test, y_train, y_test = train_test_split(X_dataset, y_dataset, train_size=0.80)"
   ]
  },
  {
   "cell_type": "code",
   "execution_count": 6,
   "metadata": {},
   "outputs": [],
   "source": [
    "from tensorflow.keras.utils import to_categorical"
   ]
  },
  {
   "cell_type": "code",
   "execution_count": 7,
   "metadata": {},
   "outputs": [],
   "source": [
    "y_train_dummy = to_categorical(y_train,2)\n",
    "y_test_dummy = to_categorical(y_test,2)"
   ]
  },
  {
   "cell_type": "markdown",
   "metadata": {
    "id": "mxK_lETT9hE0"
   },
   "source": [
    "# Neural network model"
   ]
  },
  {
   "cell_type": "code",
   "execution_count": 8,
   "metadata": {
    "id": "vHBmUf1t9hE1"
   },
   "outputs": [],
   "source": [
    "model = tf.keras.models.Sequential([\n",
    "    tf.keras.layers.Input((21 * 2, )),\n",
    "    tf.keras.layers.Dropout(0.1),\n",
    "    tf.keras.layers.Dense(256, activation='relu'),\n",
    "    tf.keras.layers.Dropout(0.1),\n",
    "    tf.keras.layers.Dense(128, activation='relu'),\n",
    "    tf.keras.layers.Dropout(0.1),\n",
    "    tf.keras.layers.Dense(64, activation='relu'),\n",
    "    tf.keras.layers.Dense(2, activation='softmax')\n",
    "])"
   ]
  },
  {
   "cell_type": "code",
   "execution_count": 9,
   "metadata": {
    "colab": {
     "base_uri": "https://localhost:8080/"
    },
    "id": "ypqky9tc9hE1",
    "outputId": "5db082bb-30e3-4110-bf63-a1ee777ecd46"
   },
   "outputs": [
    {
     "name": "stdout",
     "output_type": "stream",
     "text": [
      "Model: \"sequential\"\n",
      "_________________________________________________________________\n",
      "Layer (type)                 Output Shape              Param #   \n",
      "=================================================================\n",
      "dropout (Dropout)            (None, 42)                0         \n",
      "_________________________________________________________________\n",
      "dense (Dense)                (None, 256)               11008     \n",
      "_________________________________________________________________\n",
      "dropout_1 (Dropout)          (None, 256)               0         \n",
      "_________________________________________________________________\n",
      "dense_1 (Dense)              (None, 128)               32896     \n",
      "_________________________________________________________________\n",
      "dropout_2 (Dropout)          (None, 128)               0         \n",
      "_________________________________________________________________\n",
      "dense_2 (Dense)              (None, 64)                8256      \n",
      "_________________________________________________________________\n",
      "dense_3 (Dense)              (None, 2)                 130       \n",
      "=================================================================\n",
      "Total params: 52,290\n",
      "Trainable params: 52,290\n",
      "Non-trainable params: 0\n",
      "_________________________________________________________________\n"
     ]
    }
   ],
   "source": [
    "model.summary()  # tf.keras.utils.plot_model(model, show_shapes=True)"
   ]
  },
  {
   "cell_type": "code",
   "execution_count": 10,
   "metadata": {
    "id": "MbMjOflQ9hE1"
   },
   "outputs": [],
   "source": [
    "# Model checkpoint callback\n",
    "cp_callback = tf.keras.callbacks.ModelCheckpoint(\n",
    "    model_save_path, verbose=1, save_weights_only=False)\n",
    "# Callback for early stopping\n",
    "es_callback = tf.keras.callbacks.EarlyStopping(patience=10, verbose=1)"
   ]
  },
  {
   "cell_type": "code",
   "execution_count": 11,
   "metadata": {
    "id": "c3Dac0M_9hE2"
   },
   "outputs": [],
   "source": [
    "# Model compilation\n",
    "model.compile(\n",
    "    optimizer='rmsprop',\n",
    "    loss='categorical_crossentropy',\n",
    "    metrics=['accuracy']\n",
    ")"
   ]
  },
  {
   "cell_type": "markdown",
   "metadata": {
    "id": "7XI0j1Iu9hE2"
   },
   "source": [
    "# Training "
   ]
  },
  {
   "cell_type": "code",
   "execution_count": 12,
   "metadata": {
    "colab": {
     "base_uri": "https://localhost:8080/"
    },
    "id": "WirBl-JE9hE3",
    "outputId": "71b30ca2-8294-4d9d-8aa2-800d90d399de",
    "scrolled": true
   },
   "outputs": [
    {
     "name": "stdout",
     "output_type": "stream",
     "text": [
      "Epoch 1/200\n",
      "53/53 [==============================] - 1s 4ms/step - loss: 0.4073 - accuracy: 0.8214 - val_loss: 0.2478 - val_accuracy: 0.9195\n",
      "\n",
      "Epoch 00001: saving model to model/gesture_class\\gesture_classifier.hdf5\n",
      "Epoch 2/200\n",
      "53/53 [==============================] - 0s 2ms/step - loss: 0.2975 - accuracy: 0.8836 - val_loss: 0.2418 - val_accuracy: 0.9018\n",
      "\n",
      "Epoch 00002: saving model to model/gesture_class\\gesture_classifier.hdf5\n",
      "Epoch 3/200\n",
      "53/53 [==============================] - 0s 2ms/step - loss: 0.2738 - accuracy: 0.8877 - val_loss: 0.1750 - val_accuracy: 0.9337\n",
      "\n",
      "Epoch 00003: saving model to model/gesture_class\\gesture_classifier.hdf5\n",
      "Epoch 4/200\n",
      "53/53 [==============================] - 0s 2ms/step - loss: 0.2262 - accuracy: 0.9132 - val_loss: 0.2953 - val_accuracy: 0.8876\n",
      "\n",
      "Epoch 00004: saving model to model/gesture_class\\gesture_classifier.hdf5\n",
      "Epoch 5/200\n",
      "53/53 [==============================] - 0s 2ms/step - loss: 0.2133 - accuracy: 0.9168 - val_loss: 0.1224 - val_accuracy: 0.9645\n",
      "\n",
      "Epoch 00005: saving model to model/gesture_class\\gesture_classifier.hdf5\n",
      "Epoch 6/200\n",
      "53/53 [==============================] - 0s 2ms/step - loss: 0.1844 - accuracy: 0.9295 - val_loss: 0.2217 - val_accuracy: 0.9053\n",
      "\n",
      "Epoch 00006: saving model to model/gesture_class\\gesture_classifier.hdf5\n",
      "Epoch 7/200\n",
      "53/53 [==============================] - 0s 2ms/step - loss: 0.1803 - accuracy: 0.9357 - val_loss: 0.1068 - val_accuracy: 0.9704\n",
      "\n",
      "Epoch 00007: saving model to model/gesture_class\\gesture_classifier.hdf5\n",
      "Epoch 8/200\n",
      "53/53 [==============================] - 0s 2ms/step - loss: 0.1638 - accuracy: 0.9396 - val_loss: 0.1398 - val_accuracy: 0.9503\n",
      "\n",
      "Epoch 00008: saving model to model/gesture_class\\gesture_classifier.hdf5\n",
      "Epoch 9/200\n",
      "53/53 [==============================] - 0s 2ms/step - loss: 0.1629 - accuracy: 0.9414 - val_loss: 0.0779 - val_accuracy: 0.9763\n",
      "\n",
      "Epoch 00009: saving model to model/gesture_class\\gesture_classifier.hdf5\n",
      "Epoch 10/200\n",
      "53/53 [==============================] - 0s 2ms/step - loss: 0.1459 - accuracy: 0.9485 - val_loss: 0.0677 - val_accuracy: 0.9787\n",
      "\n",
      "Epoch 00010: saving model to model/gesture_class\\gesture_classifier.hdf5\n",
      "Epoch 11/200\n",
      "53/53 [==============================] - 0s 2ms/step - loss: 0.1449 - accuracy: 0.9505 - val_loss: 0.0880 - val_accuracy: 0.9763\n",
      "\n",
      "Epoch 00011: saving model to model/gesture_class\\gesture_classifier.hdf5\n",
      "Epoch 12/200\n",
      "53/53 [==============================] - 0s 2ms/step - loss: 0.1423 - accuracy: 0.9491 - val_loss: 0.0896 - val_accuracy: 0.9728\n",
      "\n",
      "Epoch 00012: saving model to model/gesture_class\\gesture_classifier.hdf5\n",
      "Epoch 13/200\n",
      "53/53 [==============================] - 0s 2ms/step - loss: 0.1419 - accuracy: 0.9517 - val_loss: 0.0742 - val_accuracy: 0.9822\n",
      "\n",
      "Epoch 00013: saving model to model/gesture_class\\gesture_classifier.hdf5\n",
      "Epoch 14/200\n",
      "53/53 [==============================] - 0s 2ms/step - loss: 0.1238 - accuracy: 0.9597 - val_loss: 0.0935 - val_accuracy: 0.9633\n",
      "\n",
      "Epoch 00014: saving model to model/gesture_class\\gesture_classifier.hdf5\n",
      "Epoch 15/200\n",
      "53/53 [==============================] - 0s 2ms/step - loss: 0.1266 - accuracy: 0.9585 - val_loss: 0.1002 - val_accuracy: 0.9692\n",
      "\n",
      "Epoch 00015: saving model to model/gesture_class\\gesture_classifier.hdf5\n",
      "Epoch 16/200\n",
      "53/53 [==============================] - 0s 2ms/step - loss: 0.1156 - accuracy: 0.9603 - val_loss: 0.1084 - val_accuracy: 0.9586\n",
      "\n",
      "Epoch 00016: saving model to model/gesture_class\\gesture_classifier.hdf5\n",
      "Epoch 17/200\n",
      "53/53 [==============================] - 0s 2ms/step - loss: 0.1329 - accuracy: 0.9565 - val_loss: 0.0620 - val_accuracy: 0.9834\n",
      "\n",
      "Epoch 00017: saving model to model/gesture_class\\gesture_classifier.hdf5\n",
      "Epoch 18/200\n",
      "53/53 [==============================] - 0s 2ms/step - loss: 0.1119 - accuracy: 0.9621 - val_loss: 0.0710 - val_accuracy: 0.9787\n",
      "\n",
      "Epoch 00018: saving model to model/gesture_class\\gesture_classifier.hdf5\n",
      "Epoch 19/200\n",
      "53/53 [==============================] - 0s 2ms/step - loss: 0.1194 - accuracy: 0.9588 - val_loss: 0.0663 - val_accuracy: 0.9799\n",
      "\n",
      "Epoch 00019: saving model to model/gesture_class\\gesture_classifier.hdf5\n",
      "Epoch 20/200\n",
      "53/53 [==============================] - 0s 2ms/step - loss: 0.1083 - accuracy: 0.9636 - val_loss: 0.0804 - val_accuracy: 0.9716\n",
      "\n",
      "Epoch 00020: saving model to model/gesture_class\\gesture_classifier.hdf5\n",
      "Epoch 21/200\n",
      "53/53 [==============================] - 0s 2ms/step - loss: 0.1231 - accuracy: 0.9594 - val_loss: 0.1086 - val_accuracy: 0.9550\n",
      "\n",
      "Epoch 00021: saving model to model/gesture_class\\gesture_classifier.hdf5\n",
      "Epoch 22/200\n",
      "53/53 [==============================] - 0s 2ms/step - loss: 0.1078 - accuracy: 0.9648 - val_loss: 0.0833 - val_accuracy: 0.9716\n",
      "\n",
      "Epoch 00022: saving model to model/gesture_class\\gesture_classifier.hdf5\n",
      "Epoch 23/200\n",
      "53/53 [==============================] - 0s 2ms/step - loss: 0.1054 - accuracy: 0.9642 - val_loss: 0.0591 - val_accuracy: 0.9834\n",
      "\n",
      "Epoch 00023: saving model to model/gesture_class\\gesture_classifier.hdf5\n",
      "Epoch 24/200\n",
      "53/53 [==============================] - 0s 2ms/step - loss: 0.1058 - accuracy: 0.9639 - val_loss: 0.1269 - val_accuracy: 0.9574\n",
      "\n",
      "Epoch 00024: saving model to model/gesture_class\\gesture_classifier.hdf5\n",
      "Epoch 25/200\n",
      "53/53 [==============================] - 0s 2ms/step - loss: 0.1027 - accuracy: 0.9645 - val_loss: 0.0727 - val_accuracy: 0.9763\n",
      "\n",
      "Epoch 00025: saving model to model/gesture_class\\gesture_classifier.hdf5\n",
      "Epoch 26/200\n",
      "53/53 [==============================] - 0s 2ms/step - loss: 0.1068 - accuracy: 0.9645 - val_loss: 0.0595 - val_accuracy: 0.9893\n",
      "\n",
      "Epoch 00026: saving model to model/gesture_class\\gesture_classifier.hdf5\n",
      "Epoch 27/200\n",
      "53/53 [==============================] - 0s 2ms/step - loss: 0.0943 - accuracy: 0.9707 - val_loss: 0.0762 - val_accuracy: 0.9728\n",
      "\n",
      "Epoch 00027: saving model to model/gesture_class\\gesture_classifier.hdf5\n",
      "Epoch 28/200\n",
      "53/53 [==============================] - 0s 2ms/step - loss: 0.1045 - accuracy: 0.9633 - val_loss: 0.0598 - val_accuracy: 0.9846\n",
      "\n",
      "Epoch 00028: saving model to model/gesture_class\\gesture_classifier.hdf5\n",
      "Epoch 29/200\n",
      "53/53 [==============================] - 0s 2ms/step - loss: 0.0957 - accuracy: 0.9665 - val_loss: 0.0411 - val_accuracy: 0.9905\n",
      "\n",
      "Epoch 00029: saving model to model/gesture_class\\gesture_classifier.hdf5\n",
      "Epoch 30/200\n",
      "53/53 [==============================] - 0s 2ms/step - loss: 0.1043 - accuracy: 0.9609 - val_loss: 0.1009 - val_accuracy: 0.9609\n",
      "\n",
      "Epoch 00030: saving model to model/gesture_class\\gesture_classifier.hdf5\n",
      "Epoch 31/200\n",
      "53/53 [==============================] - 0s 2ms/step - loss: 0.0895 - accuracy: 0.9704 - val_loss: 0.0893 - val_accuracy: 0.9692\n",
      "\n",
      "Epoch 00031: saving model to model/gesture_class\\gesture_classifier.hdf5\n",
      "Epoch 32/200\n",
      "53/53 [==============================] - 0s 2ms/step - loss: 0.0872 - accuracy: 0.9701 - val_loss: 0.0510 - val_accuracy: 0.9858\n",
      "\n",
      "Epoch 00032: saving model to model/gesture_class\\gesture_classifier.hdf5\n",
      "Epoch 33/200\n",
      "53/53 [==============================] - 0s 2ms/step - loss: 0.1090 - accuracy: 0.9650 - val_loss: 0.0717 - val_accuracy: 0.9740\n",
      "\n",
      "Epoch 00033: saving model to model/gesture_class\\gesture_classifier.hdf5\n",
      "Epoch 34/200\n",
      "53/53 [==============================] - 0s 2ms/step - loss: 0.0951 - accuracy: 0.9680 - val_loss: 0.0726 - val_accuracy: 0.9787\n",
      "\n",
      "Epoch 00034: saving model to model/gesture_class\\gesture_classifier.hdf5\n",
      "Epoch 35/200\n",
      "53/53 [==============================] - 0s 2ms/step - loss: 0.0963 - accuracy: 0.9683 - val_loss: 0.0606 - val_accuracy: 0.9799\n",
      "\n",
      "Epoch 00035: saving model to model/gesture_class\\gesture_classifier.hdf5\n",
      "Epoch 36/200\n",
      "53/53 [==============================] - 0s 2ms/step - loss: 0.0793 - accuracy: 0.9757 - val_loss: 0.0654 - val_accuracy: 0.9751\n",
      "\n",
      "Epoch 00036: saving model to model/gesture_class\\gesture_classifier.hdf5\n",
      "Epoch 37/200\n",
      "53/53 [==============================] - 0s 2ms/step - loss: 0.0944 - accuracy: 0.9722 - val_loss: 0.0624 - val_accuracy: 0.9775\n",
      "\n",
      "Epoch 00037: saving model to model/gesture_class\\gesture_classifier.hdf5\n",
      "Epoch 38/200\n",
      "53/53 [==============================] - 0s 2ms/step - loss: 0.0840 - accuracy: 0.9733 - val_loss: 0.0440 - val_accuracy: 0.9905\n",
      "\n",
      "Epoch 00038: saving model to model/gesture_class\\gesture_classifier.hdf5\n",
      "Epoch 39/200\n"
     ]
    },
    {
     "name": "stdout",
     "output_type": "stream",
     "text": [
      "53/53 [==============================] - 0s 2ms/step - loss: 0.0943 - accuracy: 0.9692 - val_loss: 0.0393 - val_accuracy: 0.9905\n",
      "\n",
      "Epoch 00039: saving model to model/gesture_class\\gesture_classifier.hdf5\n",
      "Epoch 40/200\n",
      "53/53 [==============================] - 0s 2ms/step - loss: 0.0842 - accuracy: 0.9725 - val_loss: 0.0410 - val_accuracy: 0.9917\n",
      "\n",
      "Epoch 00040: saving model to model/gesture_class\\gesture_classifier.hdf5\n",
      "Epoch 41/200\n",
      "53/53 [==============================] - 0s 2ms/step - loss: 0.0899 - accuracy: 0.9736 - val_loss: 0.0357 - val_accuracy: 0.9905\n",
      "\n",
      "Epoch 00041: saving model to model/gesture_class\\gesture_classifier.hdf5\n",
      "Epoch 42/200\n",
      "53/53 [==============================] - 0s 2ms/step - loss: 0.0912 - accuracy: 0.9704 - val_loss: 0.0439 - val_accuracy: 0.9858\n",
      "\n",
      "Epoch 00042: saving model to model/gesture_class\\gesture_classifier.hdf5\n",
      "Epoch 43/200\n",
      "53/53 [==============================] - 0s 2ms/step - loss: 0.0773 - accuracy: 0.9754 - val_loss: 0.0615 - val_accuracy: 0.9846\n",
      "\n",
      "Epoch 00043: saving model to model/gesture_class\\gesture_classifier.hdf5\n",
      "Epoch 44/200\n",
      "53/53 [==============================] - 0s 2ms/step - loss: 0.0672 - accuracy: 0.9763 - val_loss: 0.0412 - val_accuracy: 0.9870\n",
      "\n",
      "Epoch 00044: saving model to model/gesture_class\\gesture_classifier.hdf5\n",
      "Epoch 45/200\n",
      "53/53 [==============================] - 0s 2ms/step - loss: 0.0851 - accuracy: 0.9733 - val_loss: 0.0497 - val_accuracy: 0.9870\n",
      "\n",
      "Epoch 00045: saving model to model/gesture_class\\gesture_classifier.hdf5\n",
      "Epoch 46/200\n",
      "53/53 [==============================] - 0s 2ms/step - loss: 0.0835 - accuracy: 0.9733 - val_loss: 0.0419 - val_accuracy: 0.9917\n",
      "\n",
      "Epoch 00046: saving model to model/gesture_class\\gesture_classifier.hdf5\n",
      "Epoch 47/200\n",
      "53/53 [==============================] - 0s 2ms/step - loss: 0.0771 - accuracy: 0.9739 - val_loss: 0.0373 - val_accuracy: 0.9929\n",
      "\n",
      "Epoch 00047: saving model to model/gesture_class\\gesture_classifier.hdf5\n",
      "Epoch 48/200\n",
      "53/53 [==============================] - 0s 2ms/step - loss: 0.0821 - accuracy: 0.9695 - val_loss: 0.0450 - val_accuracy: 0.9870\n",
      "\n",
      "Epoch 00048: saving model to model/gesture_class\\gesture_classifier.hdf5\n",
      "Epoch 49/200\n",
      "53/53 [==============================] - 0s 2ms/step - loss: 0.0817 - accuracy: 0.9736 - val_loss: 0.0429 - val_accuracy: 0.9929\n",
      "\n",
      "Epoch 00049: saving model to model/gesture_class\\gesture_classifier.hdf5\n",
      "Epoch 50/200\n",
      "53/53 [==============================] - 0s 2ms/step - loss: 0.0812 - accuracy: 0.9727 - val_loss: 0.0442 - val_accuracy: 0.9917\n",
      "\n",
      "Epoch 00050: saving model to model/gesture_class\\gesture_classifier.hdf5\n",
      "Epoch 51/200\n",
      "53/53 [==============================] - 0s 2ms/step - loss: 0.0785 - accuracy: 0.9748 - val_loss: 0.0365 - val_accuracy: 0.9929\n",
      "\n",
      "Epoch 00051: saving model to model/gesture_class\\gesture_classifier.hdf5\n",
      "Epoch 00051: early stopping\n"
     ]
    }
   ],
   "source": [
    "history = model.fit(\n",
    "    X_train,\n",
    "    y_train_dummy,\n",
    "    epochs=200,\n",
    "    batch_size=64,\n",
    "    validation_data=(X_test, y_test_dummy),\n",
    "    callbacks=[cp_callback, es_callback]\n",
    ")"
   ]
  },
  {
   "cell_type": "code",
   "execution_count": 13,
   "metadata": {},
   "outputs": [
    {
     "data": {
      "image/png": "[encoded data removed]",
      "text/plain": [
       "<Figure size 432x288 with 1 Axes>"
      ]
     },
     "metadata": {
      "needs_background": "light"
     },
     "output_type": "display_data"
    }
   ],
   "source": [
    "plt.plot(history.history[\"loss\"], label=\"Training Loss\")\n",
    "plt.plot(history.history[\"val_loss\"], label=\"Validation Loss\")\n",
    "plt.legend()\n",
    "plt.show()"
   ]
  },
  {
   "cell_type": "code",
   "execution_count": 14,
   "metadata": {
    "colab": {
     "base_uri": "https://localhost:8080/"
    },
    "id": "pxvb2Y299hE3",
    "outputId": "59eb3185-2e37-4b9e-bc9d-ab1b8ac29b7f"
   },
   "outputs": [
    {
     "name": "stdout",
     "output_type": "stream",
     "text": [
      "14/14 [==============================] - 0s 539us/step - loss: 0.0365 - accuracy: 0.9929\n"
     ]
    }
   ],
   "source": [
    "# Model evaluation\n",
    "val_loss, val_acc = model.evaluate(X_test, y_test_dummy, batch_size=64)"
   ]
  },
  {
   "cell_type": "code",
   "execution_count": 15,
   "metadata": {
    "id": "RBkmDeUW9hE4"
   },
   "outputs": [],
   "source": [
    "# Loading the saved model\n",
    "model = tf.keras.models.load_model(model_save_path)"
   ]
  },
  {
   "cell_type": "markdown",
   "metadata": {
    "id": "S3U4yNWx9hE4"
   },
   "source": [
    "# Confusion matrix"
   ]
  },
  {
   "cell_type": "code",
   "execution_count": 17,
   "metadata": {
    "colab": {
     "base_uri": "https://localhost:8080/",
     "height": 582
    },
    "id": "AP1V6SCk9hE5",
    "outputId": "08e41a80-7a4a-4619-8125-ecc371368d19"
   },
   "outputs": [
    {
     "data": {
      "image/png": "[encoded data removed]",
      "text/plain": [
       "<Figure size 504x432 with 2 Axes>"
      ]
     },
     "metadata": {
      "needs_background": "light"
     },
     "output_type": "display_data"
    },
    {
     "name": "stdout",
     "output_type": "stream",
     "text": [
      "Classification Report\n",
      "              precision    recall  f1-score   support\n",
      "\n",
      "           0       1.00      0.99      0.99       518\n",
      "           1       0.98      1.00      0.99       327\n",
      "\n",
      "    accuracy                           0.99       845\n",
      "   macro avg       0.99      0.99      0.99       845\n",
      "weighted avg       0.99      0.99      0.99       845\n",
      "\n"
     ]
    }
   ],
   "source": [
    "import pandas as pd\n",
    "import seaborn as sns\n",
    "import matplotlib.pyplot as plt\n",
    "from sklearn.metrics import confusion_matrix, classification_report\n",
    "\n",
    "def print_confusion_matrix(y_true, y_pred, report=True):\n",
    "    labels = sorted(list(set(y_true)))\n",
    "    cmx_data = confusion_matrix(y_true, y_pred, labels=labels)\n",
    "    \n",
    "    df_cmx = pd.DataFrame(cmx_data, index=labels, columns=labels)\n",
    " \n",
    "    fig, ax = plt.subplots(figsize=(7, 6))\n",
    "    sns.heatmap(df_cmx, annot=True, fmt='g' ,square=False)\n",
    "    ax.set_ylim(len(set(y_true)), 0)\n",
    "    plt.show()\n",
    "    \n",
    "    if report:\n",
    "        print('Classification Report')\n",
    "        print(classification_report(y_test, y_pred))\n",
    "\n",
    "Y_pred = model.predict(X_test)\n",
    "y_pred = np.argmax(Y_pred, axis=1)\n",
    "\n",
    "print_confusion_matrix(y_test, y_pred)"
   ]
  },
  {
   "cell_type": "markdown",
   "metadata": {
    "id": "FNP6aqzc9hE5"
   },
   "source": [
    "# Convert to model for Tensorflow-Lite"
   ]
  },
  {
   "cell_type": "code",
   "execution_count": 18,
   "metadata": {
    "id": "ODjnYyld9hE6"
   },
   "outputs": [],
   "source": [
    "# Save as a model dedicated to inference\n",
    "model.save(model_save_path, include_optimizer=False)"
   ]
  },
  {
   "cell_type": "code",
   "execution_count": 19,
   "metadata": {
    "colab": {
     "base_uri": "https://localhost:8080/"
    },
    "id": "zRfuK8Y59hE6",
    "outputId": "a4ca585c-b5d5-4244-8291-8674063209bb"
   },
   "outputs": [
    {
     "name": "stdout",
     "output_type": "stream",
     "text": [
      "INFO:tensorflow:Assets written to: C:\\Users\\giand\\AppData\\Local\\Temp\\tmpkehx4cmi\\assets\n"
     ]
    },
    {
     "data": {
      "text/plain": [
       "56448"
      ]
     },
     "execution_count": 19,
     "metadata": {},
     "output_type": "execute_result"
    }
   ],
   "source": [
    "# Transform model (quantization)\n",
    "\n",
    "converter = tf.lite.TFLiteConverter.from_keras_model(model)\n",
    "converter.optimizations = [tf.lite.Optimize.DEFAULT]\n",
    "tflite_quantized_model = converter.convert()\n",
    "\n",
    "open(tflite_save_path, 'wb').write(tflite_quantized_model)"
   ]
  },
  {
   "cell_type": "code",
   "execution_count": null,
   "metadata": {},
   "outputs": [],
   "source": []
  }
 ],
 "metadata": {
  "accelerator": "GPU",
  "colab": {
   "collapsed_sections": [],
   "name": "keypoint_classification_EN.ipynb",
   "provenance": [],
   "toc_visible": true
  },
  "kernelspec": {
   "display_name": "Python 3 (ipykernel)",
   "language": "python",
   "name": "python3"
  },
  "language_info": {
   "codemirror_mode": {
    "name": "ipython",
    "version": 3
   },
   "file_extension": ".py",
   "mimetype": "text/x-python",
   "name": "python",
   "nbconvert_exporter": "python",
   "pygments_lexer": "ipython3",
   "version": "3.9.12"
  }
 },
 "nbformat": 4,
 "nbformat_minor": 1
}
